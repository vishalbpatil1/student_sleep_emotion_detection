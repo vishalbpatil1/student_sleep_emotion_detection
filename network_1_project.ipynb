{
 "cells": [
  {
   "cell_type": "code",
   "execution_count": 0,
   "metadata": {
    "colab": {
     "base_uri": "https://localhost:8080/",
     "height": 124
    },
    "colab_type": "code",
    "executionInfo": {
     "elapsed": 68137,
     "status": "ok",
     "timestamp": 1582657734303,
     "user": {
      "displayName": "VISHAL PATIL",
      "photoUrl": "https://lh3.googleusercontent.com/a-/AAuE7mBP_mBGErnznHqgGOCMji_Vduvj-Z9Oq7CJzoEH=s64",
      "userId": "05327237884246247525"
     },
     "user_tz": -330
    },
    "id": "kqdJ3g5fArNk",
    "outputId": "139a6321-d893-4947-da95-b5548c46b9a0"
   },
   "outputs": [
    {
     "name": "stdout",
     "output_type": "stream",
     "text": [
      "Go to this URL in a browser: https://accounts.google.com/o/oauth2/auth?client_id=947318989803-6bn6qk8qdgf4n4g3pfee6491hc0brc4i.apps.googleusercontent.com&redirect_uri=urn%3aietf%3awg%3aoauth%3a2.0%3aoob&response_type=code&scope=email%20https%3a%2f%2fwww.googleapis.com%2fauth%2fdocs.test%20https%3a%2f%2fwww.googleapis.com%2fauth%2fdrive%20https%3a%2f%2fwww.googleapis.com%2fauth%2fdrive.photos.readonly%20https%3a%2f%2fwww.googleapis.com%2fauth%2fpeopleapi.readonly\n",
      "\n",
      "Enter your authorization code:\n",
      "··········\n",
      "Mounted at /content/drive\n"
     ]
    }
   ],
   "source": [
    "from google.colab import drive\n",
    "drive.mount('/content/drive')"
   ]
  },
  {
   "cell_type": "code",
   "execution_count": 0,
   "metadata": {
    "colab": {
     "base_uri": "https://localhost:8080/",
     "height": 151
    },
    "colab_type": "code",
    "executionInfo": {
     "elapsed": 3847,
     "status": "ok",
     "timestamp": 1582657740178,
     "user": {
      "displayName": "VISHAL PATIL",
      "photoUrl": "https://lh3.googleusercontent.com/a-/AAuE7mBP_mBGErnznHqgGOCMji_Vduvj-Z9Oq7CJzoEH=s64",
      "userId": "05327237884246247525"
     },
     "user_tz": -330
    },
    "id": "AqrZVNrr36wP",
    "outputId": "93365a45-7e6c-4511-c1f8-4a79c08a5686"
   },
   "outputs": [
    {
     "name": "stderr",
     "output_type": "stream",
     "text": [
      "Using TensorFlow backend.\n"
     ]
    },
    {
     "data": {
      "text/html": [
       "<p style=\"color: red;\">\n",
       "The default version of TensorFlow in Colab will soon switch to TensorFlow 2.x.<br>\n",
       "We recommend you <a href=\"https://www.tensorflow.org/guide/migrate\" target=\"_blank\">upgrade</a> now \n",
       "or ensure your notebook will continue to use TensorFlow 1.x via the <code>%tensorflow_version 1.x</code> magic:\n",
       "<a href=\"https://colab.research.google.com/notebooks/tensorflow_version.ipynb\" target=\"_blank\">more info</a>.</p>\n"
      ],
      "text/plain": [
       "<IPython.core.display.HTML object>"
      ]
     },
     "metadata": {
      "tags": []
     },
     "output_type": "display_data"
    }
   ],
   "source": [
    "import keras\n",
    "import pandas as pd\n",
    "import tensorflow as tf\n",
    "import numpy as np\n",
    "import matplotlib.pyplot as plt\n",
    "from keras.preprocessing import image\n",
    "from keras.preprocessing.image import ImageDataGenerator\n",
    "from keras.utils import np_utils"
   ]
  },
  {
   "cell_type": "code",
   "execution_count": 0,
   "metadata": {
    "colab": {},
    "colab_type": "code",
    "id": "SYcQnjxg_ysY"
   },
   "outputs": [],
   "source": [
    "data_train=pd.read_csv('/content/drive/My Drive/fer2013_train_new1.csv')\n",
    "data_test=pd.read_csv('/content/drive/My Drive/fer2013_test_new1.csv')"
   ]
  },
  {
   "cell_type": "code",
   "execution_count": 0,
   "metadata": {
    "colab": {},
    "colab_type": "code",
    "id": "XrqFgQN07ymx"
   },
   "outputs": [],
   "source": [
    "classdist=data_train['emotion'].value_counts()"
   ]
  },
  {
   "cell_type": "code",
   "execution_count": 0,
   "metadata": {
    "colab": {
     "base_uri": "https://localhost:8080/",
     "height": 156
    },
    "colab_type": "code",
    "executionInfo": {
     "elapsed": 1234,
     "status": "ok",
     "timestamp": 1582657756442,
     "user": {
      "displayName": "VISHAL PATIL",
      "photoUrl": "https://lh3.googleusercontent.com/a-/AAuE7mBP_mBGErnznHqgGOCMji_Vduvj-Z9Oq7CJzoEH=s64",
      "userId": "05327237884246247525"
     },
     "user_tz": -330
    },
    "id": "rFTx-iPzCoYP",
    "outputId": "9e3d6e21-1e5f-4d09-f692-4cdcb8230ff1"
   },
   "outputs": [
    {
     "data": {
      "text/plain": [
       "3    5886\n",
       "6    2984\n",
       "5    2439\n",
       "0    2166\n",
       "4    1987\n",
       "2     839\n",
       "1     443\n",
       "Name: emotion, dtype: int64"
      ]
     },
     "execution_count": 5,
     "metadata": {
      "tags": []
     },
     "output_type": "execute_result"
    }
   ],
   "source": [
    "#classdistribution in train data\n",
    "classdist"
   ]
  },
  {
   "cell_type": "code",
   "execution_count": 0,
   "metadata": {
    "colab": {
     "base_uri": "https://localhost:8080/",
     "height": 300
    },
    "colab_type": "code",
    "executionInfo": {
     "elapsed": 2199,
     "status": "ok",
     "timestamp": 1582657769497,
     "user": {
      "displayName": "VISHAL PATIL",
      "photoUrl": "https://lh3.googleusercontent.com/a-/AAuE7mBP_mBGErnznHqgGOCMji_Vduvj-Z9Oq7CJzoEH=s64",
      "userId": "05327237884246247525"
     },
     "user_tz": -330
    },
    "id": "YSF4xhZE_vLz",
    "outputId": "a035d3b2-b4c2-4b1a-8a4f-cc3d194dd447"
   },
   "outputs": [
    {
     "data": {
      "text/plain": [
       "<matplotlib.axes._subplots.AxesSubplot at 0x7f6692f5dcf8>"
      ]
     },
     "execution_count": 6,
     "metadata": {
      "tags": []
     },
     "output_type": "execute_result"
    },
    {
     "data": {
      "image/png": "[encoded data removed]",
      "text/plain": [
       "<Figure size 432x288 with 1 Axes>"
      ]
     },
     "metadata": {
      "tags": []
     },
     "output_type": "display_data"
    }
   ],
   "source": [
    "classdist. plot(kind='bar')"
   ]
  },
  {
   "cell_type": "code",
   "execution_count": 0,
   "metadata": {
    "colab": {},
    "colab_type": "code",
    "id": "pMydYLEwASiL"
   },
   "outputs": [],
   "source": [
    "classdist1=data_test['emotion'].value_counts()"
   ]
  },
  {
   "cell_type": "code",
   "execution_count": 0,
   "metadata": {
    "colab": {
     "base_uri": "https://localhost:8080/",
     "height": 156
    },
    "colab_type": "code",
    "executionInfo": {
     "elapsed": 1264,
     "status": "ok",
     "timestamp": 1582657798040,
     "user": {
      "displayName": "VISHAL PATIL",
      "photoUrl": "https://lh3.googleusercontent.com/a-/AAuE7mBP_mBGErnznHqgGOCMji_Vduvj-Z9Oq7CJzoEH=s64",
      "userId": "05327237884246247525"
     },
     "user_tz": -330
    },
    "id": "5e8aNvZnDM4Z",
    "outputId": "0474da07-3c1c-4bf5-9807-d58d19ff1164"
   },
   "outputs": [
    {
     "data": {
      "text/plain": [
       "3    1441\n",
       "6     747\n",
       "5     657\n",
       "0     508\n",
       "4     485\n",
       "2     217\n",
       "1      89\n",
       "Name: emotion, dtype: int64"
      ]
     },
     "execution_count": 8,
     "metadata": {
      "tags": []
     },
     "output_type": "execute_result"
    }
   ],
   "source": [
    "#class distribution in test data\n",
    "classdist1"
   ]
  },
  {
   "cell_type": "code",
   "execution_count": 0,
   "metadata": {
    "colab": {
     "base_uri": "https://localhost:8080/",
     "height": 300
    },
    "colab_type": "code",
    "executionInfo": {
     "elapsed": 2372,
     "status": "ok",
     "timestamp": 1582657803391,
     "user": {
      "displayName": "VISHAL PATIL",
      "photoUrl": "https://lh3.googleusercontent.com/a-/AAuE7mBP_mBGErnznHqgGOCMji_Vduvj-Z9Oq7CJzoEH=s64",
      "userId": "05327237884246247525"
     },
     "user_tz": -330
    },
    "id": "Go5HSV7kAbg4",
    "outputId": "8951a4fe-5be4-448a-f3dc-5680a7cafd2f"
   },
   "outputs": [
    {
     "data": {
      "text/plain": [
       "<matplotlib.axes._subplots.AxesSubplot at 0x7f6692e94630>"
      ]
     },
     "execution_count": 9,
     "metadata": {
      "tags": []
     },
     "output_type": "execute_result"
    },
    {
     "data": {
      "image/png": "[encoded data removed]",
      "text/plain": [
       "<Figure size 432x288 with 1 Axes>"
      ]
     },
     "metadata": {
      "tags": []
     },
     "output_type": "display_data"
    }
   ],
   "source": [
    "classdist1.plot(kind=\"bar\")"
   ]
  },
  {
   "cell_type": "code",
   "execution_count": 0,
   "metadata": {
    "colab": {
     "base_uri": "https://localhost:8080/",
     "height": 156
    },
    "colab_type": "code",
    "executionInfo": {
     "elapsed": 1264,
     "status": "ok",
     "timestamp": 1582657808621,
     "user": {
      "displayName": "VISHAL PATIL",
      "photoUrl": "https://lh3.googleusercontent.com/a-/AAuE7mBP_mBGErnznHqgGOCMji_Vduvj-Z9Oq7CJzoEH=s64",
      "userId": "05327237884246247525"
     },
     "user_tz": -330
    },
    "id": "s-0TV_J-2XRf",
    "outputId": "25278aa5-f3b3-463a-b517-6c81041fd5b1"
   },
   "outputs": [
    {
     "name": "stdout",
     "output_type": "stream",
     "text": [
      "<class 'pandas.core.frame.DataFrame'>\n",
      "RangeIndex: 16744 entries, 0 to 16743\n",
      "Data columns (total 3 columns):\n",
      "emotion    16744 non-null int64\n",
      "Usage1     16744 non-null object\n",
      "pixels1    16744 non-null object\n",
      "dtypes: int64(1), object(2)\n",
      "memory usage: 392.6+ KB\n"
     ]
    }
   ],
   "source": [
    "data_train.info()"
   ]
  },
  {
   "cell_type": "code",
   "execution_count": 0,
   "metadata": {
    "colab": {
     "base_uri": "https://localhost:8080/",
     "height": 173
    },
    "colab_type": "code",
    "executionInfo": {
     "elapsed": 1185,
     "status": "ok",
     "timestamp": 1582657818464,
     "user": {
      "displayName": "VISHAL PATIL",
      "photoUrl": "https://lh3.googleusercontent.com/a-/AAuE7mBP_mBGErnznHqgGOCMji_Vduvj-Z9Oq7CJzoEH=s64",
      "userId": "05327237884246247525"
     },
     "user_tz": -330
    },
    "id": "TOPUIVCZ2boz",
    "outputId": "5049a1f8-0361-451e-d015-d347b40dc8d5"
   },
   "outputs": [
    {
     "name": "stdout",
     "output_type": "stream",
     "text": [
      "<class 'pandas.core.frame.DataFrame'>\n",
      "RangeIndex: 4144 entries, 0 to 4143\n",
      "Data columns (total 4 columns):\n",
      "Unnamed: 0    4059 non-null float64\n",
      "emotion       4144 non-null int64\n",
      "Usage1        4144 non-null object\n",
      "pixels1       4144 non-null object\n",
      "dtypes: float64(1), int64(1), object(2)\n",
      "memory usage: 129.6+ KB\n"
     ]
    }
   ],
   "source": [
    "data_test.info()"
   ]
  },
  {
   "cell_type": "code",
   "execution_count": 0,
   "metadata": {
    "colab": {},
    "colab_type": "code",
    "id": "QolqF--S36xI"
   },
   "outputs": [],
   "source": [
    "# x_train\n",
    "b=[]\n",
    "import numpy as np\n",
    "for index ,row in data_train.iterrows():\n",
    "    val=row['pixels1'].split(\" \")\n",
    "    for i in val:\n",
    "        a=int(i)\n",
    "        b.append(a)\n",
    "arr=np.array(b,'float32')\n",
    "x_train=arr.reshape(16744,2304)"
   ]
  },
  {
   "cell_type": "code",
   "execution_count": 0,
   "metadata": {
    "colab": {},
    "colab_type": "code",
    "id": "tMPZjdm336xf"
   },
   "outputs": [],
   "source": [
    "# x_test\n",
    "b=[]\n",
    "for index ,row in data_test.iterrows():\n",
    "    val=row['pixels1'].split(\" \")\n",
    "    for i in val:\n",
    "        a=int(i)\n",
    "        b.append(a)\n",
    "arr=np.array(b,'float32')\n",
    "x_test=arr.reshape(4144,2304)"
   ]
  },
  {
   "cell_type": "code",
   "execution_count": 0,
   "metadata": {
    "colab": {},
    "colab_type": "code",
    "id": "NixBZJPt36x6"
   },
   "outputs": [],
   "source": [
    "#y_train\n",
    "y_train=np.array(data_train['emotion'].tolist(),'float32')"
   ]
  },
  {
   "cell_type": "code",
   "execution_count": 0,
   "metadata": {
    "colab": {},
    "colab_type": "code",
    "id": "l7mCQzi_36yS"
   },
   "outputs": [],
   "source": [
    "# y_test\n",
    "y_test=np.array(data_test['emotion'].tolist(),'float32')"
   ]
  },
  {
   "cell_type": "code",
   "execution_count": 0,
   "metadata": {
    "colab": {},
    "colab_type": "code",
    "id": "oB3XaKC036ys"
   },
   "outputs": [],
   "source": [
    "# reshape \n",
    "x_train = x_train.reshape(x_train.shape[0], 48, 48, 1)\n",
    "x_train = x_train.astype('float32')\n",
    "x_test = x_test.reshape(x_test.shape[0], 48, 48, 1)\n",
    "x_test = x_test.astype('float32')"
   ]
  },
  {
   "cell_type": "code",
   "execution_count": 0,
   "metadata": {
    "colab": {},
    "colab_type": "code",
    "id": "M-ojXr6l36zE"
   },
   "outputs": [],
   "source": [
    "# One hot code\n",
    "y_train=np_utils.to_categorical(y_train,num_classes=7)\n",
    "y_test=np_utils.to_categorical(y_test,num_classes=7)"
   ]
  },
  {
   "cell_type": "code",
   "execution_count": 0,
   "metadata": {
    "colab": {},
    "colab_type": "code",
    "id": "rwUM7sti36zf"
   },
   "outputs": [],
   "source": [
    "# normalize\n",
    "x_train /= 255\n",
    "x_test /= 255"
   ]
  },
  {
   "cell_type": "code",
   "execution_count": 0,
   "metadata": {
    "colab": {
     "base_uri": "https://localhost:8080/",
     "height": 89
    },
    "colab_type": "code",
    "executionInfo": {
     "elapsed": 1433,
     "status": "ok",
     "timestamp": 1582657915401,
     "user": {
      "displayName": "VISHAL PATIL",
      "photoUrl": "https://lh3.googleusercontent.com/a-/AAuE7mBP_mBGErnznHqgGOCMji_Vduvj-Z9Oq7CJzoEH=s64",
      "userId": "05327237884246247525"
     },
     "user_tz": -330
    },
    "id": "uIr2sziJ36zy",
    "outputId": "d1e333ba-7e41-4c65-ca47-4586deb5c0ca"
   },
   "outputs": [
    {
     "name": "stdout",
     "output_type": "stream",
     "text": [
      "WARNING:tensorflow:From /usr/local/lib/python3.6/dist-packages/tensorflow_core/python/ops/resource_variable_ops.py:1630: calling BaseResourceVariable.__init__ (from tensorflow.python.ops.resource_variable_ops) with constraint is deprecated and will be removed in a future version.\n",
      "Instructions for updating:\n",
      "If using Keras pass *_constraint arguments to layers.\n"
     ]
    }
   ],
   "source": [
    "model = tf.keras.models.Sequential()\n",
    "#1st convolution layer\n",
    "model.add(tf.keras.layers.Conv2D(64, (5, 5), activation=tf.nn.relu, input_shape=(48,48,1)))\n",
    "model.add(tf.keras.layers.MaxPooling2D(pool_size=(5,5),strides=(2, 2)))\n",
    "#2nd convolution layer\n",
    "model.add(tf.keras.layers.Conv2D(64, (3, 3), activation=tf.nn.relu))\n",
    "model.add(tf.keras.layers.Conv2D(64, (3, 3), activation=tf.nn.relu))\n",
    "model.add(tf.keras.layers.AveragePooling2D(pool_size=(3,3),strides=(2, 2)))\n",
    "#3rd convolution layer\n",
    "model.add(tf.keras.layers.Conv2D(128, (3, 3), activation=tf.nn.relu))\n",
    "model.add(tf.keras.layers.Conv2D(128, (3, 3), activation=tf.nn.relu))\n",
    "model.add(tf.keras.layers.AveragePooling2D(pool_size=(3,3),strides=(2, 2)))\n",
    "model.add(tf.keras.layers.Flatten())\n",
    "#fully connected neural networks\n",
    "model.add(tf.keras.layers.Dense(1024, activation=tf.nn.relu))\n",
    "model.add(tf.keras.layers.Dropout(0.2))\n",
    "model.add(tf.keras.layers.Dense(1024, activation=tf.nn.relu))\n",
    "model.add(tf.keras.layers.Dropout(0.2))\n",
    "model.add(tf.keras.layers.Dense(7, activation=tf.nn.softmax))"
   ]
  },
  {
   "cell_type": "code",
   "execution_count": 0,
   "metadata": {
    "colab": {
     "base_uri": "https://localhost:8080/",
     "height": 661
    },
    "colab_type": "code",
    "executionInfo": {
     "elapsed": 1207,
     "status": "ok",
     "timestamp": 1582657921421,
     "user": {
      "displayName": "VISHAL PATIL",
      "photoUrl": "https://lh3.googleusercontent.com/a-/AAuE7mBP_mBGErnznHqgGOCMji_Vduvj-Z9Oq7CJzoEH=s64",
      "userId": "05327237884246247525"
     },
     "user_tz": -330
    },
    "id": "QunHGf0RCbxe",
    "outputId": "8f840115-f97b-48d4-be40-c055b5a16ce4"
   },
   "outputs": [
    {
     "name": "stdout",
     "output_type": "stream",
     "text": [
      "Model: \"sequential\"\n",
      "_________________________________________________________________\n",
      "Layer (type)                 Output Shape              Param #   \n",
      "=================================================================\n",
      "conv2d (Conv2D)              (None, 44, 44, 64)        1664      \n",
      "_________________________________________________________________\n",
      "max_pooling2d (MaxPooling2D) (None, 20, 20, 64)        0         \n",
      "_________________________________________________________________\n",
      "conv2d_1 (Conv2D)            (None, 18, 18, 64)        36928     \n",
      "_________________________________________________________________\n",
      "conv2d_2 (Conv2D)            (None, 16, 16, 64)        36928     \n",
      "_________________________________________________________________\n",
      "average_pooling2d (AveragePo (None, 7, 7, 64)          0         \n",
      "_________________________________________________________________\n",
      "conv2d_3 (Conv2D)            (None, 5, 5, 128)         73856     \n",
      "_________________________________________________________________\n",
      "conv2d_4 (Conv2D)            (None, 3, 3, 128)         147584    \n",
      "_________________________________________________________________\n",
      "average_pooling2d_1 (Average (None, 1, 1, 128)         0         \n",
      "_________________________________________________________________\n",
      "flatten (Flatten)            (None, 128)               0         \n",
      "_________________________________________________________________\n",
      "dense (Dense)                (None, 1024)              132096    \n",
      "_________________________________________________________________\n",
      "dropout (Dropout)            (None, 1024)              0         \n",
      "_________________________________________________________________\n",
      "dense_1 (Dense)              (None, 1024)              1049600   \n",
      "_________________________________________________________________\n",
      "dropout_1 (Dropout)          (None, 1024)              0         \n",
      "_________________________________________________________________\n",
      "dense_2 (Dense)              (None, 7)                 7175      \n",
      "=================================================================\n",
      "Total params: 1,485,831\n",
      "Trainable params: 1,485,831\n",
      "Non-trainable params: 0\n",
      "_________________________________________________________________\n"
     ]
    }
   ],
   "source": [
    "model.summary()"
   ]
  },
  {
   "cell_type": "code",
   "execution_count": 0,
   "metadata": {
    "colab": {},
    "colab_type": "code",
    "id": "W3nx_qWM360M"
   },
   "outputs": [],
   "source": [
    "gen = ImageDataGenerator()\n",
    "train_generator = gen.flow(x_train, y_train, batch_size=256)"
   ]
  },
  {
   "cell_type": "code",
   "execution_count": 0,
   "metadata": {
    "colab": {},
    "colab_type": "code",
    "id": "yJXNyXgJ360f"
   },
   "outputs": [],
   "source": [
    "#from keras.optimizers import Adam \n",
    "#opt=Adam(lr=0.001)"
   ]
  },
  {
   "cell_type": "code",
   "execution_count": 0,
   "metadata": {
    "colab": {},
    "colab_type": "code",
    "id": "U2Rt6WyI360u"
   },
   "outputs": [],
   "source": [
    "model.compile(loss='categorical_crossentropy', optimizer='adam', metrics=['accuracy'])"
   ]
  },
  {
   "cell_type": "code",
   "execution_count": 0,
   "metadata": {
    "colab": {
     "base_uri": "https://localhost:8080/",
     "height": 1000
    },
    "colab_type": "code",
    "executionInfo": {
     "elapsed": 234728,
     "status": "ok",
     "timestamp": 1582658173621,
     "user": {
      "displayName": "VISHAL PATIL",
      "photoUrl": "https://lh3.googleusercontent.com/a-/AAuE7mBP_mBGErnznHqgGOCMji_Vduvj-Z9Oq7CJzoEH=s64",
      "userId": "05327237884246247525"
     },
     "user_tz": -330
    },
    "id": "IKqS1pld361A",
    "outputId": "7e611b0c-061f-45e8-8a8a-3d9d24b9c8ec"
   },
   "outputs": [
    {
     "name": "stdout",
     "output_type": "stream",
     "text": [
      "Epoch 1/30\n",
      "255/256 [============================>.] - ETA: 0s - loss: 1.5913 - acc: 0.3988Epoch 1/30\n",
      "4144/256 [=====================================================================================================================================================================================================================================================================================================================================================================================================================================================================================================] - 0s 77us/sample - loss: 2.5042 - acc: 0.5767\n",
      "256/256 [==============================] - 15s 60ms/step - loss: 1.5898 - acc: 0.3995 - val_loss: 1.2925 - val_acc: 0.5767\n",
      "Epoch 2/30\n",
      "255/256 [============================>.] - ETA: 0s - loss: 0.9063 - acc: 0.6795Epoch 1/30\n",
      "4144/256 [=====================================================================================================================================================================================================================================================================================================================================================================================================================================================================================================] - 0s 42us/sample - loss: 1.4786 - acc: 0.7568\n",
      "256/256 [==============================] - 7s 27ms/step - loss: 0.9053 - acc: 0.6798 - val_loss: 0.7449 - val_acc: 0.7568\n",
      "Epoch 3/30\n",
      "255/256 [============================>.] - ETA: 0s - loss: 0.5404 - acc: 0.8075Epoch 1/30\n",
      "4144/256 [=====================================================================================================================================================================================================================================================================================================================================================================================================================================================================================================] - 0s 43us/sample - loss: 1.4381 - acc: 0.8296\n",
      "256/256 [==============================] - 7s 28ms/step - loss: 0.5398 - acc: 0.8077 - val_loss: 0.5579 - val_acc: 0.8296\n",
      "Epoch 4/30\n",
      "254/256 [============================>.] - ETA: 0s - loss: 0.3662 - acc: 0.8706Epoch 1/30\n",
      "4144/256 [=====================================================================================================================================================================================================================================================================================================================================================================================================================================================================================================] - 0s 42us/sample - loss: 1.2665 - acc: 0.8569\n",
      "256/256 [==============================] - 7s 28ms/step - loss: 0.3661 - acc: 0.8706 - val_loss: 0.4886 - val_acc: 0.8569\n",
      "Epoch 5/30\n",
      "255/256 [============================>.] - ETA: 0s - loss: 0.2724 - acc: 0.9017Epoch 1/30\n",
      "4144/256 [=====================================================================================================================================================================================================================================================================================================================================================================================================================================================================================================] - 0s 43us/sample - loss: 1.0993 - acc: 0.8625\n",
      "256/256 [==============================] - 7s 28ms/step - loss: 0.2721 - acc: 0.9017 - val_loss: 0.4859 - val_acc: 0.8625\n",
      "Epoch 6/30\n",
      "255/256 [============================>.] - ETA: 0s - loss: 0.1973 - acc: 0.9296Epoch 1/30\n",
      "4144/256 [=====================================================================================================================================================================================================================================================================================================================================================================================================================================================================================================] - 0s 43us/sample - loss: 1.2867 - acc: 0.8680\n",
      "256/256 [==============================] - 7s 28ms/step - loss: 0.1970 - acc: 0.9297 - val_loss: 0.5232 - val_acc: 0.8680\n",
      "Epoch 7/30\n",
      "254/256 [============================>.] - ETA: 0s - loss: 0.1569 - acc: 0.9439Epoch 1/30\n",
      "4144/256 [=====================================================================================================================================================================================================================================================================================================================================================================================================================================================================================================] - 0s 41us/sample - loss: 1.0873 - acc: 0.8639\n",
      "256/256 [==============================] - 7s 28ms/step - loss: 0.1566 - acc: 0.9440 - val_loss: 0.5615 - val_acc: 0.8639\n",
      "Epoch 8/30\n",
      "255/256 [============================>.] - ETA: 0s - loss: 0.1060 - acc: 0.9628Epoch 1/30\n",
      "4144/256 [=====================================================================================================================================================================================================================================================================================================================================================================================================================================================================================================] - 0s 45us/sample - loss: 1.3487 - acc: 0.8702\n",
      "256/256 [==============================] - 7s 28ms/step - loss: 0.1060 - acc: 0.9629 - val_loss: 0.6291 - val_acc: 0.8702\n",
      "Epoch 9/30\n",
      "254/256 [============================>.] - ETA: 0s - loss: 0.0954 - acc: 0.9660Epoch 1/30\n",
      "4144/256 [=====================================================================================================================================================================================================================================================================================================================================================================================================================================================================================================] - 0s 79us/sample - loss: 1.3776 - acc: 0.8605\n",
      "256/256 [==============================] - 7s 29ms/step - loss: 0.0954 - acc: 0.9660 - val_loss: 0.5956 - val_acc: 0.8605\n",
      "Epoch 10/30\n",
      "255/256 [============================>.] - ETA: 0s - loss: 0.0746 - acc: 0.9734Epoch 1/30\n",
      "4144/256 [=====================================================================================================================================================================================================================================================================================================================================================================================================================================================================================================] - 0s 43us/sample - loss: 1.9173 - acc: 0.8673\n",
      "256/256 [==============================] - 7s 28ms/step - loss: 0.0743 - acc: 0.9735 - val_loss: 0.7767 - val_acc: 0.8673\n",
      "Epoch 11/30\n",
      "254/256 [============================>.] - ETA: 0s - loss: 0.0599 - acc: 0.9794Epoch 1/30\n",
      "4144/256 [=====================================================================================================================================================================================================================================================================================================================================================================================================================================================================================================] - 0s 44us/sample - loss: 2.2221 - acc: 0.8646\n",
      "256/256 [==============================] - 7s 29ms/step - loss: 0.0601 - acc: 0.9793 - val_loss: 0.8406 - val_acc: 0.8646\n",
      "Epoch 12/30\n",
      "254/256 [============================>.] - ETA: 0s - loss: 0.0528 - acc: 0.9816Epoch 1/30\n",
      "4144/256 [=====================================================================================================================================================================================================================================================================================================================================================================================================================================================================================================] - 0s 41us/sample - loss: 2.0317 - acc: 0.8719\n",
      "256/256 [==============================] - 7s 29ms/step - loss: 0.0529 - acc: 0.9816 - val_loss: 0.7931 - val_acc: 0.8719\n",
      "Epoch 13/30\n",
      "254/256 [============================>.] - ETA: 0s - loss: 0.0503 - acc: 0.9824Epoch 1/30\n",
      "4144/256 [=====================================================================================================================================================================================================================================================================================================================================================================================================================================================================================================] - 0s 42us/sample - loss: 1.7336 - acc: 0.8663\n",
      "256/256 [==============================] - 7s 29ms/step - loss: 0.0504 - acc: 0.9824 - val_loss: 0.7639 - val_acc: 0.8663\n",
      "Epoch 14/30\n",
      "254/256 [============================>.] - ETA: 0s - loss: 0.0341 - acc: 0.9878Epoch 1/30\n",
      "4144/256 [=====================================================================================================================================================================================================================================================================================================================================================================================================================================================================================================] - 0s 42us/sample - loss: 1.7264 - acc: 0.8603\n",
      "256/256 [==============================] - 7s 28ms/step - loss: 0.0342 - acc: 0.9878 - val_loss: 0.8050 - val_acc: 0.8603\n",
      "Epoch 15/30\n",
      "254/256 [============================>.] - ETA: 0s - loss: 0.0337 - acc: 0.9886Epoch 1/30\n",
      "4144/256 [=====================================================================================================================================================================================================================================================================================================================================================================================================================================================================================================] - 0s 44us/sample - loss: 2.1420 - acc: 0.8653\n",
      "256/256 [==============================] - 7s 28ms/step - loss: 0.0339 - acc: 0.9885 - val_loss: 0.9365 - val_acc: 0.8653\n",
      "Epoch 16/30\n",
      "255/256 [============================>.] - ETA: 0s - loss: 0.0363 - acc: 0.9873Epoch 1/30\n",
      "4144/256 [=====================================================================================================================================================================================================================================================================================================================================================================================================================================================================================================] - 0s 43us/sample - loss: 2.2394 - acc: 0.8641\n",
      "256/256 [==============================] - 7s 28ms/step - loss: 0.0363 - acc: 0.9873 - val_loss: 0.8899 - val_acc: 0.8641\n",
      "Epoch 17/30\n",
      "255/256 [============================>.] - ETA: 0s - loss: 0.0387 - acc: 0.9870Epoch 1/30\n",
      "4144/256 [=====================================================================================================================================================================================================================================================================================================================================================================================================================================================================================================] - 0s 42us/sample - loss: 1.8667 - acc: 0.8526\n",
      "256/256 [==============================] - 7s 28ms/step - loss: 0.0388 - acc: 0.9870 - val_loss: 0.8408 - val_acc: 0.8526\n",
      "Epoch 18/30\n",
      "254/256 [============================>.] - ETA: 0s - loss: 0.0236 - acc: 0.9918Epoch 1/30\n",
      "4144/256 [=====================================================================================================================================================================================================================================================================================================================================================================================================================================================================================================] - 0s 42us/sample - loss: 2.4176 - acc: 0.8666\n",
      "256/256 [==============================] - 7s 28ms/step - loss: 0.0235 - acc: 0.9919 - val_loss: 1.0329 - val_acc: 0.8666\n",
      "Epoch 19/30\n",
      "255/256 [============================>.] - ETA: 0s - loss: 0.0346 - acc: 0.9881Epoch 1/30\n",
      "4144/256 [=====================================================================================================================================================================================================================================================================================================================================================================================================================================================================================================] - 0s 44us/sample - loss: 2.3885 - acc: 0.8644\n",
      "256/256 [==============================] - 7s 28ms/step - loss: 0.0347 - acc: 0.9880 - val_loss: 0.9765 - val_acc: 0.8644\n",
      "Epoch 20/30\n",
      "255/256 [============================>.] - ETA: 0s - loss: 0.0343 - acc: 0.9887Epoch 1/30\n",
      "4144/256 [=====================================================================================================================================================================================================================================================================================================================================================================================================================================================================================================] - 0s 42us/sample - loss: 2.4393 - acc: 0.8726\n",
      "256/256 [==============================] - 7s 28ms/step - loss: 0.0342 - acc: 0.9888 - val_loss: 0.9157 - val_acc: 0.8726\n",
      "Epoch 21/30\n",
      "255/256 [============================>.] - ETA: 0s - loss: 0.0311 - acc: 0.9901Epoch 1/30\n",
      "4144/256 [=====================================================================================================================================================================================================================================================================================================================================================================================================================================================================================================] - 0s 41us/sample - loss: 2.5414 - acc: 0.8762\n",
      "256/256 [==============================] - 7s 28ms/step - loss: 0.0311 - acc: 0.9901 - val_loss: 0.8724 - val_acc: 0.8762\n",
      "Epoch 22/30\n",
      "254/256 [============================>.] - ETA: 0s - loss: 0.0224 - acc: 0.9923Epoch 1/30\n",
      "4144/256 [=====================================================================================================================================================================================================================================================================================================================================================================================================================================================================================================] - 0s 42us/sample - loss: 2.7522 - acc: 0.8668\n",
      "256/256 [==============================] - 7s 28ms/step - loss: 0.0224 - acc: 0.9923 - val_loss: 0.9542 - val_acc: 0.8668\n",
      "Epoch 23/30\n",
      "255/256 [============================>.] - ETA: 0s - loss: 0.0267 - acc: 0.9911Epoch 1/30\n",
      "4144/256 [=====================================================================================================================================================================================================================================================================================================================================================================================================================================================================================================] - 0s 43us/sample - loss: 2.4456 - acc: 0.8666\n",
      "256/256 [==============================] - 7s 28ms/step - loss: 0.0266 - acc: 0.9912 - val_loss: 0.9387 - val_acc: 0.8666\n",
      "Epoch 24/30\n",
      "255/256 [============================>.] - ETA: 0s - loss: 0.0265 - acc: 0.9906Epoch 1/30\n",
      "4144/256 [=====================================================================================================================================================================================================================================================================================================================================================================================================================================================================================================] - 0s 42us/sample - loss: 3.0443 - acc: 0.8576\n",
      "256/256 [==============================] - 7s 28ms/step - loss: 0.0266 - acc: 0.9906 - val_loss: 1.1023 - val_acc: 0.8576\n",
      "Epoch 25/30\n",
      "254/256 [============================>.] - ETA: 0s - loss: 0.0220 - acc: 0.9928Epoch 1/30\n",
      "4144/256 [=====================================================================================================================================================================================================================================================================================================================================================================================================================================================================================================] - 0s 44us/sample - loss: 2.9154 - acc: 0.8530\n",
      "256/256 [==============================] - 7s 28ms/step - loss: 0.0221 - acc: 0.9927 - val_loss: 1.1414 - val_acc: 0.8530\n",
      "Epoch 26/30\n",
      "255/256 [============================>.] - ETA: 0s - loss: 0.0186 - acc: 0.9937Epoch 1/30\n",
      "4144/256 [=====================================================================================================================================================================================================================================================================================================================================================================================================================================================================================================] - 0s 41us/sample - loss: 3.0812 - acc: 0.8736\n",
      "256/256 [==============================] - 7s 28ms/step - loss: 0.0188 - acc: 0.9937 - val_loss: 1.1041 - val_acc: 0.8736\n",
      "Epoch 27/30\n",
      "255/256 [============================>.] - ETA: 0s - loss: 0.0197 - acc: 0.9937Epoch 1/30\n",
      "4144/256 [=====================================================================================================================================================================================================================================================================================================================================================================================================================================================================================================] - 0s 43us/sample - loss: 3.1340 - acc: 0.8702\n",
      "256/256 [==============================] - 7s 28ms/step - loss: 0.0197 - acc: 0.9937 - val_loss: 1.1526 - val_acc: 0.8702\n",
      "Epoch 28/30\n",
      "254/256 [============================>.] - ETA: 0s - loss: 0.0278 - acc: 0.9909Epoch 1/30\n",
      "4144/256 [=====================================================================================================================================================================================================================================================================================================================================================================================================================================================================================================] - 0s 43us/sample - loss: 2.9477 - acc: 0.8726\n",
      "256/256 [==============================] - 7s 28ms/step - loss: 0.0277 - acc: 0.9909 - val_loss: 1.0725 - val_acc: 0.8726\n",
      "Epoch 29/30\n",
      "255/256 [============================>.] - ETA: 0s - loss: 0.0210 - acc: 0.9927Epoch 1/30\n",
      "4144/256 [=====================================================================================================================================================================================================================================================================================================================================================================================================================================================================================================] - 0s 44us/sample - loss: 2.8326 - acc: 0.8639\n",
      "256/256 [==============================] - 7s 28ms/step - loss: 0.0210 - acc: 0.9927 - val_loss: 1.0751 - val_acc: 0.8639\n",
      "Epoch 30/30\n",
      "255/256 [============================>.] - ETA: 0s - loss: 0.0237 - acc: 0.9920Epoch 1/30\n",
      "4144/256 [=====================================================================================================================================================================================================================================================================================================================================================================================================================================================================================================] - 0s 44us/sample - loss: 2.7221 - acc: 0.8634\n",
      "256/256 [==============================] - 7s 28ms/step - loss: 0.0236 - acc: 0.9920 - val_loss: 1.0079 - val_acc: 0.8634\n"
     ]
    }
   ],
   "source": [
    "hist=model.fit_generator(train_generator, steps_per_epoch=256, epochs=30,validation_data=(x_test,y_test)) "
   ]
  },
  {
   "cell_type": "code",
   "execution_count": 0,
   "metadata": {
    "colab": {},
    "colab_type": "code",
    "id": "SJBP8mjS361S"
   },
   "outputs": [],
   "source": [
    "train_loss=hist.history['loss']\n",
    "test_loss=hist.history['val_loss']"
   ]
  },
  {
   "cell_type": "code",
   "execution_count": 0,
   "metadata": {
    "colab": {},
    "colab_type": "code",
    "id": "cyIiObYqEHuw"
   },
   "outputs": [],
   "source": [
    "epoches=range(1,31)"
   ]
  },
  {
   "cell_type": "code",
   "execution_count": 0,
   "metadata": {
    "colab": {
     "base_uri": "https://localhost:8080/",
     "height": 325
    },
    "colab_type": "code",
    "executionInfo": {
     "elapsed": 1914,
     "status": "ok",
     "timestamp": 1582658385181,
     "user": {
      "displayName": "VISHAL PATIL",
      "photoUrl": "https://lh3.googleusercontent.com/a-/AAuE7mBP_mBGErnznHqgGOCMji_Vduvj-Z9Oq7CJzoEH=s64",
      "userId": "05327237884246247525"
     },
     "user_tz": -330
    },
    "id": "abr3iwvR361k",
    "outputId": "c4fb2159-302b-4e43-8c55-2e0c59a21cce"
   },
   "outputs": [
    {
     "data": {
      "image/png": "[encoded data removed]",
      "text/plain": [
       "<Figure size 432x288 with 1 Axes>"
      ]
     },
     "metadata": {
      "tags": []
     },
     "output_type": "display_data"
    }
   ],
   "source": [
    "import matplotlib.pyplot as plt\n",
    "plt.style.use('fivethirtyeight')\n",
    "plt.plot(epoches,train_loss,\"r--\")\n",
    "plt.plot(epoches,test_loss,\"b-\")\n",
    "plt.legend([\"Traning Loss :\",\"Test Loss\"])\n",
    "plt.xlabel(\"Epoch\")\n",
    "plt.ylabel(\"Loss\")\n",
    "plt.show()"
   ]
  },
  {
   "cell_type": "code",
   "execution_count": 0,
   "metadata": {
    "colab": {},
    "colab_type": "code",
    "id": "_tvapike3614"
   },
   "outputs": [],
   "source": [
    "train_acc=hist.history['acc']\n",
    "test_acc=hist.history['val_acc']"
   ]
  },
  {
   "cell_type": "code",
   "execution_count": 0,
   "metadata": {
    "colab": {
     "base_uri": "https://localhost:8080/",
     "height": 325
    },
    "colab_type": "code",
    "executionInfo": {
     "elapsed": 1590,
     "status": "ok",
     "timestamp": 1582658405966,
     "user": {
      "displayName": "VISHAL PATIL",
      "photoUrl": "https://lh3.googleusercontent.com/a-/AAuE7mBP_mBGErnznHqgGOCMji_Vduvj-Z9Oq7CJzoEH=s64",
      "userId": "05327237884246247525"
     },
     "user_tz": -330
    },
    "id": "OJqVZGo4362I",
    "outputId": "b745f7d1-be39-4ca6-f1a2-f1b3269050ad"
   },
   "outputs": [
    {
     "data": {
      "image/png": "[encoded data removed]",
      "text/plain": [
       "<Figure size 432x288 with 1 Axes>"
      ]
     },
     "metadata": {
      "tags": []
     },
     "output_type": "display_data"
    }
   ],
   "source": [
    "import matplotlib.pyplot as plt\n",
    "plt.style.use('fivethirtyeight')\n",
    "plt.plot(epoches,train_acc,\"r--\")\n",
    "plt.plot(epoches,test_acc,\"b-\")\n",
    "plt.legend([\"Traning acuracy :\",\"Test accuracy\"])\n",
    "plt.xlabel(\"Epoch\")\n",
    "plt.ylabel(\"Acuracy\")\n",
    "plt.show()"
   ]
  },
  {
   "cell_type": "code",
   "execution_count": 0,
   "metadata": {
    "colab": {},
    "colab_type": "code",
    "id": "4HuURwIT362a"
   },
   "outputs": [],
   "source": [
    "import pandas as pd\n",
    "result=pd.DataFrame({'traing loss':train_loss,'traing accuracy':train_acc,'test loss':test_loss,'test accuracy ':test_acc})"
   ]
  },
  {
   "cell_type": "code",
   "execution_count": 0,
   "metadata": {
    "colab": {
     "base_uri": "https://localhost:8080/",
     "height": 331
    },
    "colab_type": "code",
    "executionInfo": {
     "elapsed": 1620,
     "status": "ok",
     "timestamp": 1582658422671,
     "user": {
      "displayName": "VISHAL PATIL",
      "photoUrl": "https://lh3.googleusercontent.com/a-/AAuE7mBP_mBGErnznHqgGOCMji_Vduvj-Z9Oq7CJzoEH=s64",
      "userId": "05327237884246247525"
     },
     "user_tz": -330
    },
    "id": "DBA1ZyBTDff0",
    "outputId": "ba057d14-0bda-450f-b816-2d35fc8b9d6f"
   },
   "outputs": [
    {
     "data": {
      "text/html": [
       "<div>\n",
       "<style scoped>\n",
       "    .dataframe tbody tr th:only-of-type {\n",
       "        vertical-align: middle;\n",
       "    }\n",
       "\n",
       "    .dataframe tbody tr th {\n",
       "        vertical-align: top;\n",
       "    }\n",
       "\n",
       "    .dataframe thead th {\n",
       "        text-align: right;\n",
       "    }\n",
       "</style>\n",
       "<table border=\"1\" class=\"dataframe\">\n",
       "  <thead>\n",
       "    <tr style=\"text-align: right;\">\n",
       "      <th></th>\n",
       "      <th>traing loss</th>\n",
       "      <th>traing accuracy</th>\n",
       "      <th>test loss</th>\n",
       "      <th>test accuracy</th>\n",
       "    </tr>\n",
       "  </thead>\n",
       "  <tbody>\n",
       "    <tr>\n",
       "      <th>count</th>\n",
       "      <td>30.000000</td>\n",
       "      <td>30.000000</td>\n",
       "      <td>30.000000</td>\n",
       "      <td>30.000000</td>\n",
       "    </tr>\n",
       "    <tr>\n",
       "      <th>mean</th>\n",
       "      <td>0.164639</td>\n",
       "      <td>0.940593</td>\n",
       "      <td>0.862406</td>\n",
       "      <td>0.850829</td>\n",
       "    </tr>\n",
       "    <tr>\n",
       "      <th>std</th>\n",
       "      <td>0.329198</td>\n",
       "      <td>0.122427</td>\n",
       "      <td>0.218493</td>\n",
       "      <td>0.056002</td>\n",
       "    </tr>\n",
       "    <tr>\n",
       "      <th>min</th>\n",
       "      <td>0.018781</td>\n",
       "      <td>0.399478</td>\n",
       "      <td>0.485885</td>\n",
       "      <td>0.576737</td>\n",
       "    </tr>\n",
       "    <tr>\n",
       "      <th>25%</th>\n",
       "      <td>0.026513</td>\n",
       "      <td>0.963652</td>\n",
       "      <td>0.749681</td>\n",
       "      <td>0.860340</td>\n",
       "    </tr>\n",
       "    <tr>\n",
       "      <th>50%</th>\n",
       "      <td>0.035540</td>\n",
       "      <td>0.987538</td>\n",
       "      <td>0.881137</td>\n",
       "      <td>0.864503</td>\n",
       "    </tr>\n",
       "    <tr>\n",
       "      <th>75%</th>\n",
       "      <td>0.103052</td>\n",
       "      <td>0.991102</td>\n",
       "      <td>1.026677</td>\n",
       "      <td>0.867821</td>\n",
       "    </tr>\n",
       "    <tr>\n",
       "      <th>max</th>\n",
       "      <td>1.589307</td>\n",
       "      <td>0.993685</td>\n",
       "      <td>1.292516</td>\n",
       "      <td>0.876207</td>\n",
       "    </tr>\n",
       "  </tbody>\n",
       "</table>\n",
       "</div>"
      ],
      "text/plain": [
       "       traing loss  traing accuracy  test loss  test accuracy \n",
       "count    30.000000        30.000000  30.000000       30.000000\n",
       "mean      0.164639         0.940593   0.862406        0.850829\n",
       "std       0.329198         0.122427   0.218493        0.056002\n",
       "min       0.018781         0.399478   0.485885        0.576737\n",
       "25%       0.026513         0.963652   0.749681        0.860340\n",
       "50%       0.035540         0.987538   0.881137        0.864503\n",
       "75%       0.103052         0.991102   1.026677        0.867821\n",
       "max       1.589307         0.993685   1.292516        0.876207"
      ]
     },
     "execution_count": 32,
     "metadata": {
      "tags": []
     },
     "output_type": "execute_result"
    }
   ],
   "source": [
    "result.describe()"
   ]
  },
  {
   "cell_type": "code",
   "execution_count": 0,
   "metadata": {
    "colab": {},
    "colab_type": "code",
    "id": "AkUpAuMu362x"
   },
   "outputs": [],
   "source": [
    "hist.model.save('modelface_cnn_fina1l.h5')"
   ]
  },
  {
   "cell_type": "code",
   "execution_count": 0,
   "metadata": {
    "colab": {},
    "colab_type": "code",
    "id": "Y39_Nyax363B"
   },
   "outputs": [],
   "source": [
    "from sklearn.metrics import classification_report, confusion_matrix"
   ]
  },
  {
   "cell_type": "code",
   "execution_count": 0,
   "metadata": {
    "colab": {},
    "colab_type": "code",
    "id": "dNe_rjtU363b"
   },
   "outputs": [],
   "source": [
    "import numpy as np\n",
    "y_test_hat=hist.model.predict(x_test)\n",
    "prediction=[]\n",
    "for i in range(len(y_test)):\n",
    "    prediction.append(np.argmax(y_test_hat[i]))  \n"
   ]
  },
  {
   "cell_type": "code",
   "execution_count": 0,
   "metadata": {
    "colab": {},
    "colab_type": "code",
    "id": "YFarnpQ8Eq80"
   },
   "outputs": [],
   "source": [
    "actual=y_test=np.array(data_test['emotion'].tolist(),'float32')"
   ]
  },
  {
   "cell_type": "code",
   "execution_count": 0,
   "metadata": {
    "colab": {
     "base_uri": "https://localhost:8080/",
     "height": 139
    },
    "colab_type": "code",
    "executionInfo": {
     "elapsed": 1273,
     "status": "ok",
     "timestamp": 1582658514807,
     "user": {
      "displayName": "VISHAL PATIL",
      "photoUrl": "https://lh3.googleusercontent.com/a-/AAuE7mBP_mBGErnznHqgGOCMji_Vduvj-Z9Oq7CJzoEH=s64",
      "userId": "05327237884246247525"
     },
     "user_tz": -330
    },
    "id": "f44y_HNW363u",
    "outputId": "83d29181-f1f3-49d1-99dd-e10ff8280a50"
   },
   "outputs": [
    {
     "data": {
      "text/plain": [
       "array([[ 430,   11,    9,   24,   22,    2,   10],\n",
       "       [  23,   46,    2,    4,    8,    1,    5],\n",
       "       [  18,    1,  143,   14,   21,   15,    5],\n",
       "       [   9,    4,    6, 1363,   28,    7,   24],\n",
       "       [  28,    7,   16,   37,  370,    2,   25],\n",
       "       [   3,    0,   10,    5,    1,  630,    8],\n",
       "       [  42,    0,   14,   35,   43,   17,  596]])"
      ]
     },
     "execution_count": 40,
     "metadata": {
      "tags": []
     },
     "output_type": "execute_result"
    }
   ],
   "source": [
    "confusion_matrix(actual,prediction)"
   ]
  },
  {
   "cell_type": "code",
   "execution_count": 0,
   "metadata": {
    "colab": {},
    "colab_type": "code",
    "id": "ng4KedgJ3638"
   },
   "outputs": [],
   "source": [
    "objects = ['angry', 'disgust', 'fear', 'happy', 'sad', 'surprise', 'neutral']"
   ]
  },
  {
   "cell_type": "code",
   "execution_count": 0,
   "metadata": {
    "colab": {
     "base_uri": "https://localhost:8080/",
     "height": 280
    },
    "colab_type": "code",
    "executionInfo": {
     "elapsed": 1434,
     "status": "ok",
     "timestamp": 1582658534804,
     "user": {
      "displayName": "VISHAL PATIL",
      "photoUrl": "https://lh3.googleusercontent.com/a-/AAuE7mBP_mBGErnznHqgGOCMji_Vduvj-Z9Oq7CJzoEH=s64",
      "userId": "05327237884246247525"
     },
     "user_tz": -330
    },
    "id": "L88t5QRF364M",
    "outputId": "f03b0605-3d45-48dd-a570-aaeb742a31df"
   },
   "outputs": [
    {
     "name": "stdout",
     "output_type": "stream",
     "text": [
      "              precision    recall  f1-score   support\n",
      "\n",
      "       angry       0.78      0.85      0.81       508\n",
      "     disgust       0.67      0.52      0.58        89\n",
      "        fear       0.71      0.66      0.69       217\n",
      "       happy       0.92      0.95      0.93      1441\n",
      "         sad       0.75      0.76      0.76       485\n",
      "    surprise       0.93      0.96      0.95       657\n",
      "     neutral       0.89      0.80      0.84       747\n",
      "\n",
      "    accuracy                           0.86      4144\n",
      "   macro avg       0.81      0.78      0.79      4144\n",
      "weighted avg       0.86      0.86      0.86      4144\n",
      "\n"
     ]
    }
   ],
   "source": [
    "print(classification_report(actual,prediction,target_names=objects))"
   ]
  },
  {
   "cell_type": "code",
   "execution_count": 0,
   "metadata": {
    "colab": {},
    "colab_type": "code",
    "id": "GE-9lMpC364f"
   },
   "outputs": [],
   "source": []
  }
 ],
 "metadata": {
  "accelerator": "GPU",
  "colab": {
   "collapsed_sections": [],
   "name": "Face_expres-new3.ipynb",
   "provenance": [
    {
     "file_id": "1obUUyr5nBBV81eWEJNxeLs4OYrZK-QK5",
     "timestamp": 1582652781504
    },
    {
     "file_id": "1_Miv40CIl-kNKTN8ca6C0cPQIlq8SL47",
     "timestamp": 1582513378338
    },
    {
     "file_id": "1-R6_FlPqdkFnT8QgYZmwt9gWF6xNKhQh",
     "timestamp": 1582294405662
    }
   ]
  },
  "kernelspec": {
   "display_name": "Python 3",
   "language": "python",
   "name": "python3"
  },
  "language_info": {
   "codemirror_mode": {
    "name": "ipython",
    "version": 3
   },
   "file_extension": ".py",
   "mimetype": "text/x-python",
   "name": "python",
   "nbconvert_exporter": "python",
   "pygments_lexer": "ipython3",
   "version": "3.7.5"
  }
 },
 "nbformat": 4,
 "nbformat_minor": 1
}
